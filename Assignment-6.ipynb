{
 "cells": [
  {
   "cell_type": "code",
   "execution_count": 1,
   "id": "f4859d41",
   "metadata": {},
   "outputs": [],
   "source": [
    "#1. What are escape characters, and how do you use them?\n",
    "\n",
    "\n",
    "'\\n','\\t', It is used in character strings to indicate that the current line of source code continues on the next line."
   ]
  },
  {
   "cell_type": "code",
   "execution_count": 2,
   "id": "3303d285",
   "metadata": {},
   "outputs": [],
   "source": [
    "#2. What do the escape characters n and t stand for?\n",
    "\n",
    "'\\n' to jump into a new line\n",
    "'\\t' to jump into a new tab"
   ]
  },
  {
   "cell_type": "code",
   "execution_count": 39,
   "id": "1dec06ca",
   "metadata": {},
   "outputs": [
    {
     "name": "stdout",
     "output_type": "stream",
     "text": [
      "abc\\123\n"
     ]
    }
   ],
   "source": [
    "#3. What is the way to include backslash characters in a string?\n",
    "\n",
    "text = \"abc\\\\123\"\n",
    "\n",
    "print(text)\n",
    "#'\\\\' is the way\n"
   ]
  },
  {
   "cell_type": "code",
   "execution_count": 36,
   "id": "ed59d467",
   "metadata": {},
   "outputs": [
    {
     "name": "stdout",
     "output_type": "stream",
     "text": [
      "Howl's Moving Castle\n"
     ]
    }
   ],
   "source": [
    "#4. The string \"Howl's Moving Castle\" is a correct value. Why isn't the single quote character in the word Howl's not escaped a problem?\n",
    "\n",
    "#Ans-\n",
    "#print('Howl's Moving Castle') if it is in single quote then we have to use '\\' escape to get the output.\n",
    "      \n",
    "print('Howl\\'s Moving Castle')"
   ]
  },
  {
   "cell_type": "code",
   "execution_count": 5,
   "id": "6f0f284f",
   "metadata": {},
   "outputs": [],
   "source": [
    "#5. How do you write a string of newlines if you don't want to use the n character?\n",
    "\n",
    "by providing '''  ''' tripple quote we can write a string of newlines.\n"
   ]
  },
  {
   "cell_type": "code",
   "execution_count": 21,
   "id": "55955af9",
   "metadata": {},
   "outputs": [
    {
     "name": "stdout",
     "output_type": "stream",
     "text": [
      "e\n",
      "Hello\n",
      "Hello\n",
      "lo, world!\n"
     ]
    }
   ],
   "source": [
    "#6. What are the values of the given expressions?\n",
    "A='Hello, world!'[1]\n",
    "print(A)\n",
    "b='Hello, world!'[0:5]\n",
    "print(b)\n",
    "c='Hello, world!'[:5]\n",
    "print(c)\n",
    "d='Hello, world!'[3:]\n",
    "print(d)"
   ]
  },
  {
   "cell_type": "code",
   "execution_count": 28,
   "id": "9f1b1db9",
   "metadata": {},
   "outputs": [
    {
     "name": "stdout",
     "output_type": "stream",
     "text": [
      "upper case= HELLO\n",
      "True\n",
      "lower case- hello\n"
     ]
    }
   ],
   "source": [
    "#7. What are the values of the following expressions?\n",
    "a='Hello'.upper()\n",
    "print(\"upper case=\" , a)\n",
    "b='Hello'.upper().isupper()\n",
    "print(b)\n",
    "c='Hello'.upper().lower()\n",
    "print('lower case-', c)"
   ]
  },
  {
   "cell_type": "code",
   "execution_count": 32,
   "id": "fc33a4c8",
   "metadata": {},
   "outputs": [
    {
     "name": "stdout",
     "output_type": "stream",
     "text": [
      "['Remember,', 'remember,', 'the', 'fifth', 'of', 'July.']\n",
      "There-can-only-one.\n"
     ]
    }
   ],
   "source": [
    "#8. What are the values of the following expressions?\n",
    "\n",
    "\n",
    "print('Remember, remember, the fifth of July.'.split())\n",
    "\n",
    "print('-'.join('There can only one.'.split()))\n"
   ]
  },
  {
   "cell_type": "code",
   "execution_count": 9,
   "id": "26555590",
   "metadata": {},
   "outputs": [],
   "source": [
    "#9. What are the methods for right-justifying, left-justifying, and centering a string?\n",
    "\n",
    "\n",
    "   rjust() ,ljust() ,center() are string method"
   ]
  },
  {
   "cell_type": "code",
   "execution_count": 10,
   "id": "02697aa0",
   "metadata": {},
   "outputs": [],
   "source": [
    "#10. What is the best way to remove whitespace characters from the start or end?\n",
    "\n",
    "\n",
    " .lstrip() method to remove whitespace from the beginning of a string.\n",
    " .rstrip() method to remove whitespace from the end of a string."
   ]
  },
  {
   "cell_type": "code",
   "execution_count": 11,
   "id": "0b580d1e",
   "metadata": {},
   "outputs": [],
   "source": [
    "#"
   ]
  },
  {
   "cell_type": "code",
   "execution_count": 12,
   "id": "a600be0c",
   "metadata": {},
   "outputs": [],
   "source": [
    "#"
   ]
  },
  {
   "cell_type": "code",
   "execution_count": null,
   "id": "b1fbb471",
   "metadata": {},
   "outputs": [],
   "source": []
  }
 ],
 "metadata": {
  "kernelspec": {
   "display_name": "Python 3 (ipykernel)",
   "language": "python",
   "name": "python3"
  },
  "language_info": {
   "codemirror_mode": {
    "name": "ipython",
    "version": 3
   },
   "file_extension": ".py",
   "mimetype": "text/x-python",
   "name": "python",
   "nbconvert_exporter": "python",
   "pygments_lexer": "ipython3",
   "version": "3.9.12"
  }
 },
 "nbformat": 4,
 "nbformat_minor": 5
}
