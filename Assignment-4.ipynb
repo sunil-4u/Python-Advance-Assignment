{
 "cells": [
  {
   "cell_type": "code",
   "execution_count": 1,
   "id": "9f7c0cb0",
   "metadata": {},
   "outputs": [],
   "source": [
    "#1. What exactly is []?\n",
    "Ans-its an empty list represented by square brackets[],where no item contains."
   ]
  },
  {
   "cell_type": "code",
   "execution_count": 8,
   "id": "3dad0642",
   "metadata": {},
   "outputs": [
    {
     "name": "stdout",
     "output_type": "stream",
     "text": [
      "[2, 4, 6, 8, 10]\n",
      "[2, 4, 6, ['a', 'b', 'c', 'd'], 10]\n"
     ]
    }
   ],
   "source": [
    "#2. In a list of values stored in a variable called spam, how would you assign the value 'hello' as the third value? (Assume [2, 4, 6, 8, 10] are in spam.)\n",
    "    #Let's pretend the spam includes the list ['a', 'b', 'c', 'd'] for the next three queries.\n",
    "Ans-\n",
    "spam = [2, 4, 6, 8, 10]\n",
    "print(spam)\n",
    "spam[3]  =['a', 'b', 'c', 'd']\n",
    "print(spam)"
   ]
  },
  {
   "cell_type": "code",
   "execution_count": 28,
   "id": "2f561908",
   "metadata": {},
   "outputs": [
    {
     "name": "stdout",
     "output_type": "stream",
     "text": [
      "spam[int(int('3' * 2) / 11)= d\n"
     ]
    }
   ],
   "source": [
    "#3. What is the value of \n",
    "Ans-\n",
    "spam=['a', 'b', 'c', 'd']\n",
    "spam[int(int('3' * 2) / 11)]\n",
    "print(\"spam[int(int('3' * 2) / 11)=\", spam[int(int('3' * 2) / 11)])"
   ]
  },
  {
   "cell_type": "code",
   "execution_count": 18,
   "id": "e7a3b139",
   "metadata": {},
   "outputs": [
    {
     "name": "stdout",
     "output_type": "stream",
     "text": [
      "['a', 'b', 'c', 'd']\n",
      "d\n"
     ]
    }
   ],
   "source": [
    "#4. What is the value of spam[-1]?\n",
    "Ans-\n",
    "\n",
    "print(spam)\n",
    "print(spam[-1])"
   ]
  },
  {
   "cell_type": "code",
   "execution_count": 39,
   "id": "0b8393a6",
   "metadata": {},
   "outputs": [
    {
     "name": "stdout",
     "output_type": "stream",
     "text": [
      "['a', 'b']\n",
      "[3.14, 'cat', 11, 'cat', True]\n"
     ]
    }
   ],
   "source": [
    "#5. What is the value of spam[:2]?\n",
    "#Let's pretend bacon has the list [3.14, 'cat,' 11, 'cat,' True] for the next three questions.\n",
    "\n",
    "Ans-\n",
    "print(spam[:2])\n",
    "bacon=[3.14, 'cat', 11, 'cat' ,True]\n",
    "print(bacon)\n"
   ]
  },
  {
   "cell_type": "code",
   "execution_count": 27,
   "id": "ff8a5bda",
   "metadata": {},
   "outputs": [
    {
     "name": "stdout",
     "output_type": "stream",
     "text": [
      "value of bacon.index('cat')= 1\n"
     ]
    }
   ],
   "source": [
    "#6. What is the value of bacon.index('cat')?\n",
    "\n",
    "Ans-\n",
    "bacon=[3.14, 'cat', 11, 'cat' ,True]\n",
    "print(\"value of bacon.index('cat')=\", bacon.index('cat'))"
   ]
  },
  {
   "cell_type": "code",
   "execution_count": 29,
   "id": "c0138555",
   "metadata": {},
   "outputs": [
    {
     "name": "stdout",
     "output_type": "stream",
     "text": [
      "None\n"
     ]
    }
   ],
   "source": [
    "#7. How does bacon.append(99) change the look of the list value in bacon?\n",
    "Ans-print(bacon.append(99))"
   ]
  },
  {
   "cell_type": "code",
   "execution_count": 35,
   "id": "96bbf5b0",
   "metadata": {},
   "outputs": [
    {
     "name": "stdout",
     "output_type": "stream",
     "text": [
      "[3.14, 'cat', 11, 'cat', True]\n",
      "[3.14, 11, 'cat', True]\n"
     ]
    }
   ],
   "source": [
    "#8. How does bacon.remove('cat') change the look of the list in bacon?\n",
    "\n",
    "Ans-\n",
    "bacon=[3.14, 'cat', 11, 'cat' ,True]\n",
    "print( bacon)\n",
    "bacon.remove('cat')\n",
    "print(bacon)"
   ]
  },
  {
   "cell_type": "code",
   "execution_count": 36,
   "id": "ae7be71c",
   "metadata": {},
   "outputs": [
    {
     "name": "stdout",
     "output_type": "stream",
     "text": [
      "['i', 'n', 'e', 'u', 'r', 'o', 'n', 'f', 's', 'd']\n",
      "['f', 's', 'd', 'f', 's', 'd']\n"
     ]
    }
   ],
   "source": [
    "#9. What are the list concatenation and list replication operators?\n",
    "Ans-\n",
    "list_1 = ['i','n','e','u','r','o','n']\n",
    "list_2 = ['f','s','d']\n",
    "print(list_1 + list_2) # List Concatenation\n",
    "print(list_2*2) # List Replication\n"
   ]
  },
  {
   "cell_type": "code",
   "execution_count": 38,
   "id": "1936c611",
   "metadata": {},
   "outputs": [
    {
     "name": "stdout",
     "output_type": "stream",
     "text": [
      "[1, 2, 3, 4, 5, 6]\n",
      "[1, 2, 'Demo', 3, 4, 5, 6]\n"
     ]
    }
   ],
   "source": [
    "#10. What is difference between the list methods append() and insert()?\n",
    "Ans-\n",
    "\n",
    "list = [1,2,3,4,5]\n",
    "list.append(6)\n",
    "print(list)\n",
    "list.insert(2,'Demo')\n",
    "print(list)"
   ]
  },
  {
   "cell_type": "code",
   "execution_count": 11,
   "id": "c553755a",
   "metadata": {},
   "outputs": [],
   "source": [
    "#11. What are the two methods for removing items from a list?\n",
    "Ans-The del and remove() are two ways to remove values from a list."
   ]
  },
  {
   "cell_type": "code",
   "execution_count": 12,
   "id": "5018f499",
   "metadata": {},
   "outputs": [],
   "source": [
    "#12. Describe how list values and string values are identical.\n",
    " Ans-Both lists and strings can be passed to len() function, have indexes and slices, be used in for loops, be concatenated or replicated, and be used with the in and not in operators."
   ]
  },
  {
   "cell_type": "code",
   "execution_count": 13,
   "id": "cfd1db71",
   "metadata": {},
   "outputs": [],
   "source": [
    "#13. What's the difference between tuples and lists?\n",
    "\n",
    "Ans-Lists are Mutable, Indexable and Slicable. they can have values added, removed, or changed. \n",
    "Tuples are Immutable but Indexable and Slicable. the tuple values cannot be changed at all. \n",
    "Also, tuples are represented using parentheses, (), while lists use the square brackets, []."
   ]
  },
  {
   "cell_type": "code",
   "execution_count": 43,
   "id": "a96de412",
   "metadata": {},
   "outputs": [
    {
     "name": "stdout",
     "output_type": "stream",
     "text": [
      "<class 'int'>\n",
      "<class 'tuple'>\n"
     ]
    }
   ],
   "source": [
    "#14. How do you type a tuple value that only contains the integer 42?\n",
    "Ans-\n",
    "tup1=(42)\n",
    "tup2=(42,)\n",
    "print(type(tup1))\n",
    "print(type(tup2))"
   ]
  },
  {
   "cell_type": "code",
   "execution_count": 51,
   "id": "f0bbc0c6",
   "metadata": {},
   "outputs": [],
   "source": [
    "#15. How do you get a list value's tuple form? How do you get a tuple value's list form?\n",
    "\n",
    "Ans-The tuple() and list() functions, respectively are used to convert a list to tuple and vice versa\n"
   ]
  },
  {
   "cell_type": "code",
   "execution_count": 16,
   "id": "f068279d",
   "metadata": {},
   "outputs": [],
   "source": [
    "#16. Variables that \"contain\" list values are not necessarily lists themselves. Instead, what do they contain?\n",
    "\n",
    "Ans-They contain references to list values."
   ]
  },
  {
   "cell_type": "code",
   "execution_count": 17,
   "id": "d7f6b6de",
   "metadata": {},
   "outputs": [],
   "source": [
    "#17. How do you distinguish between copy.copy() and copy.deepcopy()?\n",
    "\n",
    "Ans-The copy.copy() function will do a shallow copy of a list, while the copy.deepcopy() function will do a deep copy of a list. \n",
    "That is, only copy.deepcopy() will duplicate any lists inside the list."
   ]
  },
  {
   "cell_type": "code",
   "execution_count": null,
   "id": "cc58f30d",
   "metadata": {},
   "outputs": [],
   "source": []
  }
 ],
 "metadata": {
  "kernelspec": {
   "display_name": "Python 3 (ipykernel)",
   "language": "python",
   "name": "python3"
  },
  "language_info": {
   "codemirror_mode": {
    "name": "ipython",
    "version": 3
   },
   "file_extension": ".py",
   "mimetype": "text/x-python",
   "name": "python",
   "nbconvert_exporter": "python",
   "pygments_lexer": "ipython3",
   "version": "3.9.12"
  }
 },
 "nbformat": 4,
 "nbformat_minor": 5
}
