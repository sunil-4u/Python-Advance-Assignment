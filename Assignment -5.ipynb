{
 "cells": [
  {
   "cell_type": "raw",
   "id": "4163bccd",
   "metadata": {},
   "source": [
    "1. What does an empty dictionary's code look like?"
   ]
  },
  {
   "cell_type": "code",
   "execution_count": 33,
   "id": "ee0c7583",
   "metadata": {},
   "outputs": [],
   "source": [
    "d = {} or d = dict()"
   ]
  },
  {
   "cell_type": "raw",
   "id": "2438f88a",
   "metadata": {},
   "source": [
    "2. What is the value of a dictionary value with the key 'foo' and the value 42?"
   ]
  },
  {
   "cell_type": "code",
   "execution_count": 1,
   "id": "a25b09fa",
   "metadata": {},
   "outputs": [
    {
     "name": "stdout",
     "output_type": "stream",
     "text": [
      "{'foo': 42}\n"
     ]
    },
    {
     "data": {
      "text/plain": [
       "{'foo': 42}"
      ]
     },
     "execution_count": 1,
     "metadata": {},
     "output_type": "execute_result"
    }
   ],
   "source": [
    "#Ans-\n",
    "dic={'foo':42}\n",
    "print(dic)\n",
    "\n",
    "{'foo':42}"
   ]
  },
  {
   "cell_type": "raw",
   "id": "58c28473",
   "metadata": {},
   "source": [
    "#3. What is the most significant distinction between a dictionary and a list?"
   ]
  },
  {
   "cell_type": "code",
   "execution_count": 3,
   "id": "46ba8bbe",
   "metadata": {},
   "outputs": [],
   "source": [
    "#Ans-\n",
    "dictionary are represented by {} where as list are represented by []"
   ]
  },
  {
   "cell_type": "raw",
   "id": "e8ebee94",
   "metadata": {},
   "source": [
    "#4. What happens if you try to access spam['foo'] if spam is {'bar': 100}?"
   ]
  },
  {
   "cell_type": "code",
   "execution_count": 2,
   "id": "a5f2ef48",
   "metadata": {},
   "outputs": [
    {
     "ename": "KeyError",
     "evalue": "'foo'",
     "output_type": "error",
     "traceback": [
      "\u001b[1;31m---------------------------------------------------------------------------\u001b[0m",
      "\u001b[1;31mKeyError\u001b[0m                                  Traceback (most recent call last)",
      "Input \u001b[1;32mIn [2]\u001b[0m, in \u001b[0;36m<cell line: 3>\u001b[1;34m()\u001b[0m\n\u001b[0;32m      1\u001b[0m \u001b[38;5;66;03m#Ans-\u001b[39;00m\n\u001b[0;32m      2\u001b[0m spam \u001b[38;5;241m=\u001b[39m{\u001b[38;5;124m'\u001b[39m\u001b[38;5;124mbar\u001b[39m\u001b[38;5;124m'\u001b[39m: \u001b[38;5;241m100\u001b[39m}\n\u001b[1;32m----> 3\u001b[0m \u001b[38;5;28mprint\u001b[39m(\u001b[43mspam\u001b[49m\u001b[43m[\u001b[49m\u001b[38;5;124;43m'\u001b[39;49m\u001b[38;5;124;43mfoo\u001b[39;49m\u001b[38;5;124;43m'\u001b[39;49m\u001b[43m]\u001b[49m)\n",
      "\u001b[1;31mKeyError\u001b[0m: 'foo'"
     ]
    }
   ],
   "source": [
    "\n",
    "\n",
    "#Ans-\n",
    "spam ={'bar': 100}\n",
    "print(spam['foo'])\n",
    "#we will get a keyError KeyError: 'foo'"
   ]
  },
  {
   "cell_type": "raw",
   "id": "40f20947",
   "metadata": {},
   "source": [
    "#5. If a dictionary is stored in spam, what is the difference between the expressions 'cat' in spam and 'cat' in spam.keys()?"
   ]
  },
  {
   "cell_type": "code",
   "execution_count": 7,
   "id": "67ef41d7",
   "metadata": {},
   "outputs": [
    {
     "ename": "AttributeError",
     "evalue": "'dict' object has no attribute 'key'",
     "output_type": "error",
     "traceback": [
      "\u001b[1;31m---------------------------------------------------------------------------\u001b[0m",
      "\u001b[1;31mAttributeError\u001b[0m                            Traceback (most recent call last)",
      "Input \u001b[1;32mIn [7]\u001b[0m, in \u001b[0;36m<cell line: 3>\u001b[1;34m()\u001b[0m\n\u001b[0;32m      1\u001b[0m \u001b[38;5;66;03m#5. If a dictionary is stored in spam, what is the difference between the expressions 'cat' in spam and 'cat' in spam.keys()?\u001b[39;00m\n\u001b[0;32m      2\u001b[0m spam \u001b[38;5;241m=\u001b[39m{\u001b[38;5;124m'\u001b[39m\u001b[38;5;124mcat\u001b[39m\u001b[38;5;124m'\u001b[39m: \u001b[38;5;241m100\u001b[39m}\n\u001b[1;32m----> 3\u001b[0m \u001b[43mspam\u001b[49m\u001b[38;5;241;43m.\u001b[39;49m\u001b[43mkey\u001b[49m()\n",
      "\u001b[1;31mAttributeError\u001b[0m: 'dict' object has no attribute 'key'"
     ]
    }
   ],
   "source": [
    "\n",
    "spam ={'cat': 100}\n",
    "spam.key()\n",
    "#Ans- There is a difference . The operator checks whether a value exits as a key in the dictionary or not"
   ]
  },
  {
   "cell_type": "raw",
   "id": "457e8831",
   "metadata": {},
   "source": [
    "#6. What is a shortcut for the following code? "
   ]
  },
  {
   "cell_type": "code",
   "execution_count": 12,
   "id": "015d4637",
   "metadata": {},
   "outputs": [
    {
     "data": {
      "text/plain": [
       "'black'"
      ]
     },
     "execution_count": 12,
     "metadata": {},
     "output_type": "execute_result"
    }
   ],
   "source": [
    "\n",
    "\n",
    "#Ans-\n",
    "if 'color' not in spam:\n",
    "    spam['color'] = 'black'\n",
    "\n",
    "\n",
    "spam.setdefault('color','black')"
   ]
  },
  {
   "cell_type": "raw",
   "id": "03f6b439",
   "metadata": {},
   "source": [
    "#8. How do you \"pretty print\" dictionary values using which module and function?"
   ]
  },
  {
   "cell_type": "code",
   "execution_count": 16,
   "id": "1162a20c",
   "metadata": {},
   "outputs": [
    {
     "name": "stdout",
     "output_type": "stream",
     "text": [
      " using print() function\n",
      " [{'Name': 'sk', 'Age': '56', 'Residence': {'Country': 'ind', 'City': 'delhi'}}, {'Name': 'sl', 'Age': '63', 'Residence': {'Country': 'jap', 'City': 'singapur'}}, {'Name': 'An', 'Age': '22', 'Residence': {'Country': 'UK', 'City': 'England'}}, {'Name': 'Le', 'Age': '27', 'Residence': {'Country': 'nep', 'City': 'katmandu'}}]\n",
      " * * * * * * * * * * * * * * * * * * * * * * * * * * * * * * * * * * * * * * * * * * * * * * * * * *\n",
      " using pprint() funciton\n",
      "[{'Age': '56', 'Name': 'sk', 'Residence': {'City': 'delhi', 'Country': 'ind'}},\n",
      " {'Age': '63',\n",
      "  'Name': 'sl',\n",
      "  'Residence': {'City': 'singapur', 'Country': 'jap'}},\n",
      " {'Age': '22', 'Name': 'An', 'Residence': {'City': 'England', 'Country': 'UK'}},\n",
      " {'Age': '27',\n",
      "  'Name': 'Le',\n",
      "  'Residence': {'City': 'katmandu', 'Country': 'nep'}}]\n",
      " * * * * * * * * * * * * * * * * * * * * * * * * * * * * * * * * * * * * * * * * * * * * * * * * * *\n",
      " using dumps() method\n",
      " [\n",
      " {\n",
      "  \"Name\": \"sk\",\n",
      "  \"Age\": \"56\",\n",
      "  \"Residence\": {\n",
      "   \"Country\": \"ind\",\n",
      "   \"City\": \"delhi\"\n",
      "  }\n",
      " },\n",
      " {\n",
      "  \"Name\": \"sl\",\n",
      "  \"Age\": \"63\",\n",
      "  \"Residence\": {\n",
      "   \"Country\": \"jap\",\n",
      "   \"City\": \"singapur\"\n",
      "  }\n",
      " },\n",
      " {\n",
      "  \"Name\": \"An\",\n",
      "  \"Age\": \"22\",\n",
      "  \"Residence\": {\n",
      "   \"Country\": \"UK\",\n",
      "   \"City\": \"England\"\n",
      "  }\n",
      " },\n",
      " {\n",
      "  \"Name\": \"Le\",\n",
      "  \"Age\": \"27\",\n",
      "  \"Residence\": {\n",
      "   \"Country\": \"nep\",\n",
      "   \"City\": \"katmandu\"\n",
      "  }\n",
      " }\n",
      "]\n",
      " * * * * * * * * * * * * * * * * * * * * * * * * * * * * * * * * * * * * * * * * * * * * * * * * * *\n",
      " using dump() method\n",
      " -    Age: '56'\n",
      "     Name: sk\n",
      "     Residence:\n",
      "          City: delhi\n",
      "          Country: ind\n",
      "-    Age: '63'\n",
      "     Name: sl\n",
      "     Residence:\n",
      "          City: singapur\n",
      "          Country: jap\n",
      "-    Age: '22'\n",
      "     Name: An\n",
      "     Residence:\n",
      "          City: England\n",
      "          Country: UK\n",
      "-    Age: '27'\n",
      "     Name: Le\n",
      "     Residence:\n",
      "          City: katmandu\n",
      "          Country: nep\n",
      "\n"
     ]
    }
   ],
   "source": [
    "\n",
    "\n",
    "#Ans-\n",
    "\n",
    " #we can pretty print a dictionary using three functions\n",
    "dict = [\n",
    "  {'Name': 'sk', 'Age': '56', 'Residence': {'Country':'ind', 'City': 'delhi'}},\n",
    "  {'Name': 'sl', 'Age': '63', 'Residence': {'Country':'jap', 'City': 'singapur'}},\n",
    "  {'Name': 'An', 'Age': '22', 'Residence': {'Country':'UK', 'City': 'England'}},\n",
    "  {'Name': 'Le', 'Age': '27', 'Residence': {'Country':'nep', 'City': 'katmandu'}}\n",
    "]\n",
    "\n",
    "print(' using print() function\\n',dict)\n",
    "print(\" *\"*50)\n",
    "\n",
    "import pprint\n",
    "print(' using pprint() funciton')\n",
    "pprint.pprint(dict)\n",
    "print(' *'*50)\n",
    "\n",
    "import json\n",
    "dump = json.dumps(dict, indent=1)\n",
    "print(' using dumps() method\\n', dump)\n",
    "print(' *'*50)\n",
    "\n",
    "import yaml\n",
    "dump = yaml.dump(dict, indent=5)\n",
    "print(' using dump() method\\n', dump)"
   ]
  },
  {
   "cell_type": "code",
   "execution_count": null,
   "id": "3626a9c9",
   "metadata": {},
   "outputs": [],
   "source": []
  },
  {
   "cell_type": "code",
   "execution_count": null,
   "id": "844c38b2",
   "metadata": {},
   "outputs": [],
   "source": []
  },
  {
   "cell_type": "code",
   "execution_count": null,
   "id": "13fb3fc9",
   "metadata": {},
   "outputs": [],
   "source": []
  }
 ],
 "metadata": {
  "kernelspec": {
   "display_name": "Python 3 (ipykernel)",
   "language": "python",
   "name": "python3"
  },
  "language_info": {
   "codemirror_mode": {
    "name": "ipython",
    "version": 3
   },
   "file_extension": ".py",
   "mimetype": "text/x-python",
   "name": "python",
   "nbconvert_exporter": "python",
   "pygments_lexer": "ipython3",
   "version": "3.9.12"
  }
 },
 "nbformat": 4,
 "nbformat_minor": 5
}
