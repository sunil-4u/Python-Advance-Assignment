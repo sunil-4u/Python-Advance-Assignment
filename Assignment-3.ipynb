{
 "cells": [
  {
   "cell_type": "markdown",
   "id": "ef5c00fb",
   "metadata": {},
   "source": [
    "#1. Why are functions advantageous to have in your programs?\n"
   ]
  },
  {
   "cell_type": "code",
   "execution_count": null,
   "id": "7ef1c3bb",
   "metadata": {},
   "outputs": [],
   "source": [
    "The main advantage of functions is code Reusability."
   ]
  },
  {
   "cell_type": "markdown",
   "id": "297ab91d",
   "metadata": {},
   "source": [
    "#2. When does the code in a function run: when it&#39;s specified or when it&#39;s called?\n"
   ]
  },
  {
   "cell_type": "code",
   "execution_count": null,
   "id": "9a0f9989",
   "metadata": {},
   "outputs": [],
   "source": [
    "The code in a function executes when the function is called, not when the function is specified."
   ]
  },
  {
   "cell_type": "markdown",
   "id": "a31ccbef",
   "metadata": {},
   "source": [
    "#3. What statement creates a function?\n"
   ]
  },
  {
   "cell_type": "code",
   "execution_count": null,
   "id": "34947757",
   "metadata": {},
   "outputs": [],
   "source": [
    "We can create a function using the def keyword"
   ]
  },
  {
   "cell_type": "markdown",
   "id": "1d1208c1",
   "metadata": {},
   "source": [
    "#4. What is the difference between a function and a function call?\n"
   ]
  },
  {
   "cell_type": "code",
   "execution_count": null,
   "id": "51089cb8",
   "metadata": {},
   "outputs": [],
   "source": [
    "A function is procedure to achieve a particular result. while function call is using this function to achive that task. Using a function to do a particular task any point in program is called as function call."
   ]
  },
  {
   "cell_type": "markdown",
   "id": "66e3b6a1",
   "metadata": {},
   "source": [
    "#5. How many global scopes are there in a Python program? How many local scopes?"
   ]
  },
  {
   "cell_type": "code",
   "execution_count": null,
   "id": "a1e109a7",
   "metadata": {},
   "outputs": [],
   "source": [
    "one global scope, and one local scope is created whenever a function is called."
   ]
  },
  {
   "cell_type": "markdown",
   "id": "368ab2b7",
   "metadata": {},
   "source": [
    "#6. What happens to variables in a local scope when the function call returns?"
   ]
  },
  {
   "cell_type": "code",
   "execution_count": null,
   "id": "4dc9aa95",
   "metadata": {},
   "outputs": [],
   "source": [
    "A local scope hold its value until the next time the function is called."
   ]
  },
  {
   "cell_type": "markdown",
   "id": "6c856fa8",
   "metadata": {},
   "source": [
    "#7. What is the concept of a return value? Is it possible to have a return value in an expression?"
   ]
  },
  {
   "cell_type": "code",
   "execution_count": null,
   "id": "36ec8883",
   "metadata": {},
   "outputs": [],
   "source": [
    "Return values are just like the values that a function returns when it is completed & returns a string."
   ]
  },
  {
   "cell_type": "markdown",
   "id": "3f175687",
   "metadata": {},
   "source": [
    "#8. If a function does not have a return statement, what is the return value of a call to that function?"
   ]
  },
  {
   "cell_type": "code",
   "execution_count": null,
   "id": "c7626610",
   "metadata": {},
   "outputs": [],
   "source": [
    "none will be its value"
   ]
  },
  {
   "cell_type": "markdown",
   "id": "62de7166",
   "metadata": {},
   "source": [
    "#9. How do you make a function variable refer to the global variable?"
   ]
  },
  {
   "cell_type": "code",
   "execution_count": null,
   "id": "fe9c3f1d",
   "metadata": {},
   "outputs": [],
   "source": [
    "If we want to refer to a global variable in a function, we can use the global keyword to declare which variables are global."
   ]
  },
  {
   "cell_type": "markdown",
   "id": "b7884322",
   "metadata": {},
   "source": [
    "#10. What is the data type of None?"
   ]
  },
  {
   "cell_type": "code",
   "execution_count": null,
   "id": "fd8e526d",
   "metadata": {},
   "outputs": [],
   "source": [
    "it is nontype"
   ]
  },
  {
   "cell_type": "markdown",
   "id": "2fd7568b",
   "metadata": {},
   "source": [
    "#11. What does the sentence import areallyourpetsnamederic do?"
   ]
  },
  {
   "cell_type": "code",
   "execution_count": null,
   "id": "08618a42",
   "metadata": {},
   "outputs": [],
   "source": [
    "it imports the module areallyourpetsnamederic."
   ]
  },
  {
   "cell_type": "markdown",
   "id": "33a65bc9",
   "metadata": {},
   "source": [
    "#12. If you had a bacon() feature in a spam module, what would you call it after importing spam?"
   ]
  },
  {
   "cell_type": "code",
   "execution_count": null,
   "id": "7770133e",
   "metadata": {},
   "outputs": [],
   "source": [
    "it is called spam.bacon()"
   ]
  },
  {
   "cell_type": "markdown",
   "id": "b83c9dfe",
   "metadata": {},
   "source": [
    "#13. What can you do to save a programme from crashing if it encounters an error?"
   ]
  },
  {
   "cell_type": "code",
   "execution_count": null,
   "id": "1f1f055d",
   "metadata": {},
   "outputs": [],
   "source": [
    "a try clause and use except block to handle the error."
   ]
  },
  {
   "cell_type": "markdown",
   "id": "201a7ea0",
   "metadata": {},
   "source": [
    "#14. What is the purpose of the try clause? What is the purpose of the except clause"
   ]
  },
  {
   "cell_type": "code",
   "execution_count": null,
   "id": "c05e516c",
   "metadata": {},
   "outputs": [],
   "source": [
    "The code that could potentially cause an error goes in the try clause. The code that executes if an error happens goes in the except clause."
   ]
  }
 ],
 "metadata": {
  "kernelspec": {
   "display_name": "Python 3 (ipykernel)",
   "language": "python",
   "name": "python3"
  },
  "language_info": {
   "codemirror_mode": {
    "name": "ipython",
    "version": 3
   },
   "file_extension": ".py",
   "mimetype": "text/x-python",
   "name": "python",
   "nbconvert_exporter": "python",
   "pygments_lexer": "ipython3",
   "version": "3.9.12"
  }
 },
 "nbformat": 4,
 "nbformat_minor": 5
}
