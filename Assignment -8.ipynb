{
 "cells": [
  {
   "cell_type": "markdown",
   "id": "2eebf4d4",
   "metadata": {},
   "source": [
    "#1. Is the Python Standard Library included with PyInputPlus?\n"
   ]
  },
  {
   "cell_type": "code",
   "execution_count": null,
   "id": "f1d606ab",
   "metadata": {},
   "outputs": [],
   "source": [
    " No, PyInputPlus is not a part of Python Standard Library.\n",
    "    pip install PyInputPlus"
   ]
  },
  {
   "cell_type": "markdown",
   "id": "83cd29c8",
   "metadata": {},
   "source": [
    "#2. Why is PyInputPlus commonly imported with import pyinputplus as pypi?\n"
   ]
  },
  {
   "cell_type": "code",
   "execution_count": null,
   "id": "e4a3c4a2",
   "metadata": {},
   "outputs": [],
   "source": [
    "importing the module with import pyinputplus as pyip ,as pypi is the shot name to call pyinputplus."
   ]
  },
  {
   "cell_type": "markdown",
   "id": "a8cbadec",
   "metadata": {},
   "source": [
    "#3. How do you distinguish between inputInt() and inputFloat()?\n"
   ]
  },
  {
   "cell_type": "code",
   "execution_count": null,
   "id": "43a29ede",
   "metadata": {},
   "outputs": [],
   "source": [
    "inputInt() function Accepts an integer value. \n",
    "inputFloat() function Accepts a floating-point numeric value."
   ]
  },
  {
   "cell_type": "markdown",
   "id": "7dc12373",
   "metadata": {},
   "source": [
    "#4. Using PyInputPlus, how do you ensure that the user enters a whole number between 0 and 99?\n"
   ]
  },
  {
   "cell_type": "code",
   "execution_count": null,
   "id": "4db51b25",
   "metadata": {},
   "outputs": [],
   "source": [
    "\n",
    "import pyinputplus as pyip\n",
    "wholenumber = pyip.inputInt('Enter a number: ', min=0, max = 100)\n",
    "print(wholenumber)"
   ]
  },
  {
   "cell_type": "markdown",
   "id": "5b57ed04",
   "metadata": {},
   "source": [
    "#5. What is transferred to the keyword arguments allowRegexes and blockRegexes?\n"
   ]
  },
  {
   "cell_type": "code",
   "execution_count": null,
   "id": "f6203570",
   "metadata": {},
   "outputs": [],
   "source": [
    " A list of regex strings that  allow or denie the expression\n"
   ]
  },
  {
   "cell_type": "markdown",
   "id": "80a9f14d",
   "metadata": {},
   "source": [
    "#6. If a blank input is entered three times, what does inputStr(limit=3) do?\n"
   ]
  },
  {
   "cell_type": "code",
   "execution_count": null,
   "id": "5fbb4aa0",
   "metadata": {},
   "outputs": [],
   "source": [
    "The function will raise RetryLimitException."
   ]
  },
  {
   "cell_type": "markdown",
   "id": "30896d17",
   "metadata": {},
   "source": [
    "#7. If blank input is entered three times, what does inputStr(limit=3, default='hello') do?"
   ]
  },
  {
   "cell_type": "code",
   "execution_count": null,
   "id": "952201cc",
   "metadata": {},
   "outputs": [],
   "source": [
    "The function returns the value 'hello'"
   ]
  },
  {
   "cell_type": "code",
   "execution_count": 8,
   "id": "608e9a63",
   "metadata": {},
   "outputs": [],
   "source": [
    "#"
   ]
  },
  {
   "cell_type": "code",
   "execution_count": 9,
   "id": "654784a5",
   "metadata": {},
   "outputs": [],
   "source": [
    "#"
   ]
  },
  {
   "cell_type": "code",
   "execution_count": 10,
   "id": "fbdf9f9e",
   "metadata": {},
   "outputs": [],
   "source": [
    "#"
   ]
  },
  {
   "cell_type": "code",
   "execution_count": 11,
   "id": "55d1e378",
   "metadata": {},
   "outputs": [],
   "source": [
    "#"
   ]
  },
  {
   "cell_type": "code",
   "execution_count": 12,
   "id": "8ac96180",
   "metadata": {},
   "outputs": [],
   "source": [
    "#"
   ]
  },
  {
   "cell_type": "code",
   "execution_count": 13,
   "id": "3cbcd2a2",
   "metadata": {},
   "outputs": [],
   "source": [
    "#"
   ]
  },
  {
   "cell_type": "code",
   "execution_count": 14,
   "id": "28397541",
   "metadata": {},
   "outputs": [],
   "source": [
    "#"
   ]
  },
  {
   "cell_type": "code",
   "execution_count": 15,
   "id": "36973e33",
   "metadata": {},
   "outputs": [],
   "source": [
    "#"
   ]
  },
  {
   "cell_type": "code",
   "execution_count": 16,
   "id": "bb2f5114",
   "metadata": {},
   "outputs": [],
   "source": [
    "#"
   ]
  },
  {
   "cell_type": "code",
   "execution_count": 17,
   "id": "7634cc79",
   "metadata": {},
   "outputs": [],
   "source": [
    "#"
   ]
  },
  {
   "cell_type": "code",
   "execution_count": null,
   "id": "8810d9be",
   "metadata": {},
   "outputs": [],
   "source": []
  }
 ],
 "metadata": {
  "kernelspec": {
   "display_name": "Python 3 (ipykernel)",
   "language": "python",
   "name": "python3"
  },
  "language_info": {
   "codemirror_mode": {
    "name": "ipython",
    "version": 3
   },
   "file_extension": ".py",
   "mimetype": "text/x-python",
   "name": "python",
   "nbconvert_exporter": "python",
   "pygments_lexer": "ipython3",
   "version": "3.9.12"
  }
 },
 "nbformat": 4,
 "nbformat_minor": 5
}
